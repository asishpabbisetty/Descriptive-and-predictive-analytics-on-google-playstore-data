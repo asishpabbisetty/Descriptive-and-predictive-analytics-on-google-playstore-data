{
 "cells": [
  {
   "cell_type": "code",
   "execution_count": null,
   "metadata": {},
   "outputs": [],
   "source": [
    "%matplotlib inline\n",
    "import pandas as pd\n",
    "import numpy as np\n",
    "from matplotlib import pyplot as plt\n",
    "plt.style.use('ggplot')\n",
    "\n",
    "import seaborn as sns # for making plots with seaborn\n",
    "color = sns.color_palette()\n",
    "sns.set(rc={'figure.figsize':(25,15)})\n",
    "\n",
    "import plotly\n",
    "# connected=True means it will download the latest version of plotly javascript library.\n",
    "plotly.offline.init_notebook_mode(connected=True)\n",
    "import plotly.graph_objs as go\n",
    "\n",
    "import plotly.figure_factory as ff\n",
    "import cufflinks as cf\n",
    "\n",
    "\n",
    "import warnings\n",
    "warnings.filterwarnings('ignore')"
   ]
  },
  {
   "cell_type": "markdown",
   "metadata": {},
   "source": [
    "# Sneak peek at the dataset"
   ]
  },
  {
   "cell_type": "code",
   "execution_count": null,
   "metadata": {},
   "outputs": [],
   "source": [
    "\n",
    "df = pd.read_csv('../input/googleplaystore.csv')\n",
    "\n",
    "#print(df.dtypes)\n",
    "#df.loc[df.App=='Tiny Scanner - PDF Scanner App']\n",
    "# df[df.duplicated(keep='first')]\n",
    "df.drop_duplicates(subset='App', inplace=True)\n",
    "df = df[df['Android Ver'] != np.nan]\n",
    "df = df[df['Android Ver'] != 'NaN']\n",
    "df = df[df['Installs'] != 'Free']\n",
    "df = df[df['Installs'] != 'Paid']\n",
    "\n",
    "#print(len(df))"
   ]
  },
  {
   "cell_type": "code",
   "execution_count": null,
   "metadata": {},
   "outputs": [],
   "source": [
    "print('Number of apps in the dataset : ' , len(df))\n",
    "df.sample(7)"
   ]
  },
  {
   "cell_type": "markdown",
   "metadata": {},
   "source": [
    "# Data Cleaning\n",
    " - Convert all app sizes to MB\n",
    " - Remove '+' from 'Number of Installs' to make it numeric\n",
    " - Convert all review text to English language using Google Translator library"
   ]
  },
  {
   "cell_type": "code",
   "execution_count": null,
   "metadata": {},
   "outputs": [],
   "source": [
    "\n",
    "# - Installs : Remove + and ,\n",
    "\n",
    "df['Installs'] = df['Installs'].apply(lambda x: x.replace('+', '') if '+' in str(x) else x)\n",
    "df['Installs'] = df['Installs'].apply(lambda x: x.replace(',', '') if ',' in str(x) else x)\n",
    "df['Installs'] = df['Installs'].apply(lambda x: int(x))\n",
    "#print(type(df['Installs'].values))\n"
   ]
  },
  {
   "cell_type": "code",
   "execution_count": null,
   "metadata": {},
   "outputs": [],
   "source": [
    "# - Size : Remove 'M', Replace 'k' and divide by 10^-3\n",
    "#df['Size'] = df['Size'].fillna(0)\n",
    "\n",
    "df['Size'] = df['Size'].apply(lambda x: str(x).replace('Varies with device', 'NaN') if 'Varies with device' in str(x) else x)\n",
    "\n",
    "df['Size'] = df['Size'].apply(lambda x: str(x).replace('M', '') if 'M' in str(x) else x)\n",
    "df['Size'] = df['Size'].apply(lambda x: str(x).replace(',', '') if 'M' in str(x) else x)\n",
    "df['Size'] = df['Size'].apply(lambda x: float(str(x).replace('k', '')) / 1000 if 'k' in str(x) else x)\n",
    "\n",
    "\n",
    "df['Size'] = df['Size'].apply(lambda x: float(x))\n",
    "df['Installs'] = df['Installs'].apply(lambda x: float(x))\n",
    "\n",
    "df['Price'] = df['Price'].apply(lambda x: str(x).replace('$', '') if '$' in str(x) else str(x))\n",
    "df['Price'] = df['Price'].apply(lambda x: float(x))\n",
    "\n",
    "df['Reviews'] = df['Reviews'].apply(lambda x: int(x))\n",
    "#df['Reviews'] = df['Reviews'].apply(lambda x: 'NaN' if int(x) == 0 else int(x))\n",
    "#print(df.loc[df.Size == 0.713]) #index = 3384\n",
    "#df.loc[df.col1 == '']['col2']\n",
    "\n",
    "# 0 - Free, 1 - Paid\n",
    "# df['Type'] = pd.factorize(df['Type'])[0]\n",
    "#print(df.dtypes)"
   ]
  },
  {
   "cell_type": "markdown",
   "metadata": {},
   "source": [
    "# Basic EDA"
   ]
  },
  {
   "cell_type": "code",
   "execution_count": null,
   "metadata": {},
   "outputs": [],
   "source": [
    "#print(df.dtypes)\n",
    "\n",
    "\n",
    "x = df['Rating'].dropna()\n",
    "y = df['Size'].dropna()\n",
    "z = df['Installs'][df.Installs!=0].dropna()\n",
    "p = df['Reviews'][df.Reviews!=0].dropna()\n",
    "t = df['Type'].dropna()\n",
    "price = df['Price']\n",
    "\n",
    "p = sns.pairplot(pd.DataFrame(list(zip(x, y, np.log(z), np.log10(p), t, price)), \n",
    "                        columns=['Rating','Size', 'Installs', 'Reviews', 'Type', 'Price']), hue='Type', palette=\"Set2\")"
   ]
  },
  {
   "cell_type": "markdown",
   "metadata": {},
   "source": [
    "    This is the basic exploratory analysis to look for any evident patterns or relationships between the features. "
   ]
  },
  {
   "cell_type": "markdown",
   "metadata": {},
   "source": [
    "# Android market breakdown\n",
    "Which category has the highest share of (active) apps in the market?"
   ]
  },
  {
   "cell_type": "code",
   "execution_count": null,
   "metadata": {},
   "outputs": [],
   "source": [
    "number_of_apps_in_category = df['Category'].value_counts().sort_values(ascending=True)\n",
    "\n",
    "data = [go.Pie(\n",
    "        labels = number_of_apps_in_category.index,\n",
    "        values = number_of_apps_in_category.values,\n",
    "        hoverinfo = 'label+value'\n",
    "    \n",
    ")]\n",
    "\n",
    "plotly.offline.iplot(data, filename='active_category')"
   ]
  },
  {
   "cell_type": "markdown",
   "metadata": {},
   "source": [
    "- **Family** and **Game** apps have the highest market prevelance. \n",
    "- Interestingly, **Tools, Business and Medical** apps are also catching up."
   ]
  },
  {
   "cell_type": "markdown",
   "metadata": {},
   "source": [
    "## Average rating of apps\n",
    "Do any apps perform really good or really bad?"
   ]
  },
  {
   "cell_type": "code",
   "execution_count": null,
   "metadata": {},
   "outputs": [],
   "source": [
    "data = [go.Histogram(\n",
    "        x = df.Rating,\n",
    "        xbins = {'start': 1, 'size': 0.1, 'end' :5}\n",
    ")]\n",
    "\n",
    "print('Average app rating = ', np.mean(df['Rating']))\n",
    "plotly.offline.iplot(data, filename='overall_rating_distribution')"
   ]
  },
  {
   "cell_type": "markdown",
   "metadata": {},
   "source": [
    "Generally, most apps do well with an average rating of **4.17**.\n",
    "\n",
    "Let's break this down and inspect if we have categories which perform exceptionally good or bad."
   ]
  },
  {
   "cell_type": "markdown",
   "metadata": {},
   "source": [
    "# App ratings across categories - One Way Anova Test"
   ]
  },
  {
   "cell_type": "code",
   "execution_count": null,
   "metadata": {},
   "outputs": [],
   "source": [
    "import scipy.stats as stats\n",
    "f = stats.f_oneway(df.loc[df.Category == 'BUSINESS']['Rating'].dropna(), \n",
    "               df.loc[df.Category == 'FAMILY']['Rating'].dropna(),\n",
    "               df.loc[df.Category == 'GAME']['Rating'].dropna(),\n",
    "               df.loc[df.Category == 'PERSONALIZATION']['Rating'].dropna(),\n",
    "               df.loc[df.Category == 'LIFESTYLE']['Rating'].dropna(),\n",
    "               df.loc[df.Category == 'FINANCE']['Rating'].dropna(),\n",
    "               df.loc[df.Category == 'EDUCATION']['Rating'].dropna(),\n",
    "               df.loc[df.Category == 'MEDICAL']['Rating'].dropna(),\n",
    "               df.loc[df.Category == 'TOOLS']['Rating'].dropna(),\n",
    "               df.loc[df.Category == 'PRODUCTIVITY']['Rating'].dropna()\n",
    "              )\n",
    "\n",
    "print(f)\n",
    "print('\\nThe p-value is extremely small, hence we reject the null hypothesis in favor of the alternate hypothesis.\\n')\n",
    "#temp = df.loc[df.Category.isin(['BUSINESS', 'DATING'])]\n",
    "\n",
    "groups = df.groupby('Category').filter(lambda x: len(x) > 286).reset_index()\n",
    "array = groups['Rating'].hist(by=groups['Category'], sharex=True, figsize=(20,20))"
   ]
  },
  {
   "cell_type": "markdown",
   "metadata": {},
   "source": [
    "                            The average app ratings across categories is significantly different."
   ]
  },
  {
   "cell_type": "markdown",
   "metadata": {},
   "source": [
    "# Best performing categories"
   ]
  },
  {
   "cell_type": "code",
   "execution_count": null,
   "metadata": {},
   "outputs": [],
   "source": [
    "groups = df.groupby('Category').filter(lambda x: len(x) >= 170).reset_index()\n",
    "#print(type(groups.item.['BUSINESS']))\n",
    "print('Average rating = ', np.nanmean(list(groups.Rating)))\n",
    "#print(len(groups.loc[df.Category == 'DATING']))\n",
    "c = ['hsl('+str(h)+',50%'+',50%)' for h in np.linspace(0, 720, len(set(groups.Category)))]\n",
    "\n",
    "\n",
    "#df_sorted = df.groupby('Category').agg({'Rating':'median'}).reset_index().sort_values(by='Rating', ascending=False)\n",
    "#print(df_sorted)\n",
    "\n",
    "layout = {'title' : 'App ratings across major categories',\n",
    "        'xaxis': {'tickangle':-40},\n",
    "        'yaxis': {'title': 'Rating'},\n",
    "          'plot_bgcolor': 'rgb(250,250,250)',\n",
    "          'shapes': [{\n",
    "              'type' :'line',\n",
    "              'x0': -.5,\n",
    "              'y0': np.nanmean(list(groups.Rating)),\n",
    "              'x1': 19,\n",
    "              'y1': np.nanmean(list(groups.Rating)),\n",
    "              'line': { 'dash': 'dashdot'}\n",
    "          }]\n",
    "          }\n",
    "\n",
    "data = [{\n",
    "    'y': df.loc[df.Category==category]['Rating'], \n",
    "    'type':'violin',\n",
    "    'name' : category,\n",
    "    'showlegend':False,\n",
    "    #'marker': {'color': 'Set2'},\n",
    "    } for i,category in enumerate(list(set(groups.Category)))]\n",
    "\n",
    "\n",
    "\n",
    "plotly.offline.iplot({'data': data, 'layout': layout})\n",
    "\n"
   ]
  },
  {
   "cell_type": "markdown",
   "metadata": {},
   "source": [
    "\n",
    "- Almost all app categories perform decently. **Health and Fitness** and **Books and Reference** produce the highest quality apps with **50% apps having a rating greater than 4.5.** This is extremely high!\n",
    "\n",
    "\n",
    "- On the contrary, **50% of apps in the Dating category have a rating lesser than the average rating**. \n",
    "\n",
    "\n",
    "- A few **junk apps** also exist in the **Lifestyle**, **Family** and **Finance** category.\n"
   ]
  },
  {
   "cell_type": "markdown",
   "metadata": {},
   "source": [
    "# Sizing Strategy - Light Vs Bulky?\n",
    "\n",
    "How do app sizes impact the app rating?"
   ]
  },
  {
   "cell_type": "code",
   "execution_count": null,
   "metadata": {},
   "outputs": [],
   "source": [
    "groups = df.groupby('Category').filter(lambda x: len(x) >= 50).reset_index()"
   ]
  },
  {
   "cell_type": "code",
   "execution_count": null,
   "metadata": {},
   "outputs": [],
   "source": [
    "# sns.set_style('ticks')\n",
    "# fig, ax = plt.subplots()\n",
    "# fig.set_size_inches(8, 8)\n",
    "sns.set_style(\"darkgrid\")\n",
    "ax = sns.jointplot(df['Size'], df['Rating'])\n",
    "#ax.set_title('Rating Vs Size')"
   ]
  },
  {
   "cell_type": "markdown",
   "metadata": {},
   "source": [
    "Most top rated apps are optimally sized between **~2MB to ~40MB** - neither too light nor too heavy."
   ]
  },
  {
   "cell_type": "code",
   "execution_count": null,
   "metadata": {},
   "outputs": [],
   "source": [
    "\n",
    "c = ['hsl('+str(h)+',50%'+',50%)' for h in np.linspace(0, 360, len(list(set(groups.Category))))]\n",
    "\n",
    "subset_df = df[df.Size > 40]\n",
    "groups_temp = subset_df.groupby('Category').filter(lambda x: len(x) >20)\n",
    "\n",
    "# for category in enumerate(list(set(groups_temp.Category))):\n",
    "#     print (category)\n",
    "\n",
    "data = [{\n",
    "    'x': groups_temp.loc[subset_df.Category==category[1]]['Rating'], \n",
    "    'type':'scatter',\n",
    "    'y' : subset_df['Size'],\n",
    "    'name' : str(category[1]),\n",
    "    'mode' : 'markers',\n",
    "    'showlegend': True,\n",
    "    #'marker': {'color':c[i]}\n",
    "    #'text' : df['rating'],\n",
    "    } for category in enumerate(['GAME', 'FAMILY'])]\n",
    "\n",
    "\n",
    "layout = {'title':\"Rating vs Size\", \n",
    "          'xaxis': {'title' : 'Rating'},\n",
    "          'yaxis' : {'title' : 'Size (in MB)'},\n",
    "         'plot_bgcolor': 'rgb(0,0,0)'}\n",
    "\n",
    "plotly.offline.iplot({'data': data, 'layout': layout})\n",
    "\n",
    "# heavy_categories = [ 'ENTERTAINMENT', 'MEDICAL', 'DATING']\n",
    "\n",
    "# data = [{\n",
    "#     'x': groups.loc[df.Category==category]['Rating'], \n",
    "#     'type':'scatter',\n",
    "#     'y' : df['Size'],\n",
    "#     'name' : category,\n",
    "#     'mode' : 'markers',\n",
    "#     'showlegend': True,\n",
    "#     #'text' : df['rating'],\n",
    "#     } for category in heavy_categories]"
   ]
  },
  {
   "cell_type": "markdown",
   "metadata": {},
   "source": [
    "Most bulky apps ( >50MB) belong to the **Game** and **Family** category. Despite this, these bulky apps are fairly highly rated indicating that they are bulky for a purpose."
   ]
  },
  {
   "cell_type": "markdown",
   "metadata": {},
   "source": []
  },
  {
   "cell_type": "markdown",
   "metadata": {},
   "source": [
    "# Pricing Strategy - Free Vs Paid?\n",
    "How do app prices impact app rating?"
   ]
  },
  {
   "cell_type": "code",
   "execution_count": null,
   "metadata": {},
   "outputs": [],
   "source": []
  },
  {
   "cell_type": "code",
   "execution_count": null,
   "metadata": {},
   "outputs": [],
   "source": []
  },
  {
   "cell_type": "code",
   "execution_count": null,
   "metadata": {},
   "outputs": [],
   "source": []
  }
 ],
 "metadata": {
  "kernelspec": {
   "display_name": "Python 3",
   "language": "python",
   "name": "python3"
  },
  "language_info": {
   "codemirror_mode": {
    "name": "ipython",
    "version": 3
   },
   "file_extension": ".py",
   "mimetype": "text/x-python",
   "name": "python",
   "nbconvert_exporter": "python",
   "pygments_lexer": "ipython3",
   "version": "3.7.4"
  }
 },
 "nbformat": 4,
 "nbformat_minor": 2
}
